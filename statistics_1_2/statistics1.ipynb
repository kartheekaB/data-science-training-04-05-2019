{
 "cells": [
  {
   "cell_type": "code",
   "execution_count": 2,
   "metadata": {},
   "outputs": [],
   "source": [
    "import pandas as pd\n",
    "import numpy as np"
   ]
  },
  {
   "cell_type": "code",
   "execution_count": 3,
   "metadata": {
    "scrolled": true
   },
   "outputs": [],
   "source": [
    "NSE_data = pd.read_csv(\"D:/Desktop/Desktop_Important/ATI/NSE.csv\")"
   ]
  },
  {
   "cell_type": "code",
   "execution_count": 46,
   "metadata": {},
   "outputs": [],
   "source": [
    "bike_data = pd.read_csv(\"D:/Desktop/Desktop_Important/ATI/bike_sharing_python.csv\")"
   ]
  },
  {
   "cell_type": "code",
   "execution_count": 47,
   "metadata": {},
   "outputs": [
    {
     "data": {
      "text/html": [
       "<div>\n",
       "<style scoped>\n",
       "    .dataframe tbody tr th:only-of-type {\n",
       "        vertical-align: middle;\n",
       "    }\n",
       "\n",
       "    .dataframe tbody tr th {\n",
       "        vertical-align: top;\n",
       "    }\n",
       "\n",
       "    .dataframe thead th {\n",
       "        text-align: right;\n",
       "    }\n",
       "</style>\n",
       "<table border=\"1\" class=\"dataframe\">\n",
       "  <thead>\n",
       "    <tr style=\"text-align: right;\">\n",
       "      <th></th>\n",
       "      <th>datetime</th>\n",
       "      <th>season</th>\n",
       "      <th>holiday</th>\n",
       "      <th>workingday</th>\n",
       "      <th>weather</th>\n",
       "      <th>temp</th>\n",
       "      <th>atemp</th>\n",
       "      <th>humidity</th>\n",
       "      <th>windspeed</th>\n",
       "    </tr>\n",
       "  </thead>\n",
       "  <tbody>\n",
       "    <tr>\n",
       "      <th>0</th>\n",
       "      <td>1/20/2011 0:00</td>\n",
       "      <td>1.0</td>\n",
       "      <td>0.0</td>\n",
       "      <td>1.0</td>\n",
       "      <td>1.0</td>\n",
       "      <td>10.66</td>\n",
       "      <td>11.365</td>\n",
       "      <td>56.0</td>\n",
       "      <td>26.0027</td>\n",
       "    </tr>\n",
       "    <tr>\n",
       "      <th>1</th>\n",
       "      <td>1/20/2011 1:00</td>\n",
       "      <td>1.0</td>\n",
       "      <td>0.0</td>\n",
       "      <td>1.0</td>\n",
       "      <td>1.0</td>\n",
       "      <td>10.66</td>\n",
       "      <td>13.635</td>\n",
       "      <td>56.0</td>\n",
       "      <td>0.0000</td>\n",
       "    </tr>\n",
       "    <tr>\n",
       "      <th>2</th>\n",
       "      <td>1/20/2011 2:00</td>\n",
       "      <td>1.0</td>\n",
       "      <td>0.0</td>\n",
       "      <td>1.0</td>\n",
       "      <td>1.0</td>\n",
       "      <td>10.66</td>\n",
       "      <td>13.635</td>\n",
       "      <td>56.0</td>\n",
       "      <td>0.0000</td>\n",
       "    </tr>\n",
       "    <tr>\n",
       "      <th>3</th>\n",
       "      <td>1/20/2011 3:00</td>\n",
       "      <td>1.0</td>\n",
       "      <td>0.0</td>\n",
       "      <td>1.0</td>\n",
       "      <td>1.0</td>\n",
       "      <td>10.66</td>\n",
       "      <td>12.880</td>\n",
       "      <td>56.0</td>\n",
       "      <td>11.0014</td>\n",
       "    </tr>\n",
       "    <tr>\n",
       "      <th>4</th>\n",
       "      <td>1/20/2011 4:00</td>\n",
       "      <td>1.0</td>\n",
       "      <td>0.0</td>\n",
       "      <td>1.0</td>\n",
       "      <td>1.0</td>\n",
       "      <td>10.66</td>\n",
       "      <td>12.880</td>\n",
       "      <td>56.0</td>\n",
       "      <td>11.0014</td>\n",
       "    </tr>\n",
       "  </tbody>\n",
       "</table>\n",
       "</div>"
      ],
      "text/plain": [
       "         datetime  season  holiday  workingday  weather   temp   atemp  \\\n",
       "0  1/20/2011 0:00     1.0      0.0         1.0      1.0  10.66  11.365   \n",
       "1  1/20/2011 1:00     1.0      0.0         1.0      1.0  10.66  13.635   \n",
       "2  1/20/2011 2:00     1.0      0.0         1.0      1.0  10.66  13.635   \n",
       "3  1/20/2011 3:00     1.0      0.0         1.0      1.0  10.66  12.880   \n",
       "4  1/20/2011 4:00     1.0      0.0         1.0      1.0  10.66  12.880   \n",
       "\n",
       "   humidity  windspeed  \n",
       "0      56.0    26.0027  \n",
       "1      56.0     0.0000  \n",
       "2      56.0     0.0000  \n",
       "3      56.0    11.0014  \n",
       "4      56.0    11.0014  "
      ]
     },
     "execution_count": 47,
     "metadata": {},
     "output_type": "execute_result"
    }
   ],
   "source": [
    "bike_data.head()"
   ]
  },
  {
   "cell_type": "code",
   "execution_count": 48,
   "metadata": {},
   "outputs": [
    {
     "data": {
      "text/plain": [
       "array(nan)"
      ]
     },
     "execution_count": 48,
     "metadata": {},
     "output_type": "execute_result"
    }
   ],
   "source": [
    "np.cov(bike_data[\"humidity\"])"
   ]
  },
  {
   "cell_type": "code",
   "execution_count": 49,
   "metadata": {},
   "outputs": [
    {
     "data": {
      "text/html": [
       "<div>\n",
       "<style scoped>\n",
       "    .dataframe tbody tr th:only-of-type {\n",
       "        vertical-align: middle;\n",
       "    }\n",
       "\n",
       "    .dataframe tbody tr th {\n",
       "        vertical-align: top;\n",
       "    }\n",
       "\n",
       "    .dataframe thead th {\n",
       "        text-align: right;\n",
       "    }\n",
       "</style>\n",
       "<table border=\"1\" class=\"dataframe\">\n",
       "  <thead>\n",
       "    <tr style=\"text-align: right;\">\n",
       "      <th></th>\n",
       "      <th>season</th>\n",
       "      <th>holiday</th>\n",
       "      <th>workingday</th>\n",
       "      <th>weather</th>\n",
       "      <th>temp</th>\n",
       "      <th>atemp</th>\n",
       "      <th>humidity</th>\n",
       "      <th>windspeed</th>\n",
       "    </tr>\n",
       "  </thead>\n",
       "  <tbody>\n",
       "    <tr>\n",
       "      <th>season</th>\n",
       "      <td>1.000000</td>\n",
       "      <td>-0.075950</td>\n",
       "      <td>0.050905</td>\n",
       "      <td>-0.053989</td>\n",
       "      <td>0.400354</td>\n",
       "      <td>0.409513</td>\n",
       "      <td>0.083229</td>\n",
       "      <td>-0.154630</td>\n",
       "    </tr>\n",
       "    <tr>\n",
       "      <th>holiday</th>\n",
       "      <td>-0.075950</td>\n",
       "      <td>1.000000</td>\n",
       "      <td>-0.255977</td>\n",
       "      <td>-0.033337</td>\n",
       "      <td>-0.072039</td>\n",
       "      <td>-0.072593</td>\n",
       "      <td>-0.031677</td>\n",
       "      <td>-0.003300</td>\n",
       "    </tr>\n",
       "    <tr>\n",
       "      <th>workingday</th>\n",
       "      <td>0.050905</td>\n",
       "      <td>-0.255977</td>\n",
       "      <td>1.000000</td>\n",
       "      <td>0.062315</td>\n",
       "      <td>0.096125</td>\n",
       "      <td>0.103029</td>\n",
       "      <td>0.059068</td>\n",
       "      <td>-0.054205</td>\n",
       "    </tr>\n",
       "    <tr>\n",
       "      <th>weather</th>\n",
       "      <td>-0.053989</td>\n",
       "      <td>-0.033337</td>\n",
       "      <td>0.062315</td>\n",
       "      <td>1.000000</td>\n",
       "      <td>-0.179632</td>\n",
       "      <td>-0.186812</td>\n",
       "      <td>0.437273</td>\n",
       "      <td>0.057205</td>\n",
       "    </tr>\n",
       "    <tr>\n",
       "      <th>temp</th>\n",
       "      <td>0.400354</td>\n",
       "      <td>-0.072039</td>\n",
       "      <td>0.096125</td>\n",
       "      <td>-0.179632</td>\n",
       "      <td>1.000000</td>\n",
       "      <td>0.991932</td>\n",
       "      <td>-0.082449</td>\n",
       "      <td>-0.031706</td>\n",
       "    </tr>\n",
       "    <tr>\n",
       "      <th>atemp</th>\n",
       "      <td>0.409513</td>\n",
       "      <td>-0.072593</td>\n",
       "      <td>0.103029</td>\n",
       "      <td>-0.186812</td>\n",
       "      <td>0.991932</td>\n",
       "      <td>1.000000</td>\n",
       "      <td>-0.069808</td>\n",
       "      <td>-0.069865</td>\n",
       "    </tr>\n",
       "    <tr>\n",
       "      <th>humidity</th>\n",
       "      <td>0.083229</td>\n",
       "      <td>-0.031677</td>\n",
       "      <td>0.059068</td>\n",
       "      <td>0.437273</td>\n",
       "      <td>-0.082449</td>\n",
       "      <td>-0.069808</td>\n",
       "      <td>1.000000</td>\n",
       "      <td>-0.243298</td>\n",
       "    </tr>\n",
       "    <tr>\n",
       "      <th>windspeed</th>\n",
       "      <td>-0.154630</td>\n",
       "      <td>-0.003300</td>\n",
       "      <td>-0.054205</td>\n",
       "      <td>0.057205</td>\n",
       "      <td>-0.031706</td>\n",
       "      <td>-0.069865</td>\n",
       "      <td>-0.243298</td>\n",
       "      <td>1.000000</td>\n",
       "    </tr>\n",
       "  </tbody>\n",
       "</table>\n",
       "</div>"
      ],
      "text/plain": [
       "              season   holiday  workingday   weather      temp     atemp  \\\n",
       "season      1.000000 -0.075950    0.050905 -0.053989  0.400354  0.409513   \n",
       "holiday    -0.075950  1.000000   -0.255977 -0.033337 -0.072039 -0.072593   \n",
       "workingday  0.050905 -0.255977    1.000000  0.062315  0.096125  0.103029   \n",
       "weather    -0.053989 -0.033337    0.062315  1.000000 -0.179632 -0.186812   \n",
       "temp        0.400354 -0.072039    0.096125 -0.179632  1.000000  0.991932   \n",
       "atemp       0.409513 -0.072593    0.103029 -0.186812  0.991932  1.000000   \n",
       "humidity    0.083229 -0.031677    0.059068  0.437273 -0.082449 -0.069808   \n",
       "windspeed  -0.154630 -0.003300   -0.054205  0.057205 -0.031706 -0.069865   \n",
       "\n",
       "            humidity  windspeed  \n",
       "season      0.083229  -0.154630  \n",
       "holiday    -0.031677  -0.003300  \n",
       "workingday  0.059068  -0.054205  \n",
       "weather     0.437273   0.057205  \n",
       "temp       -0.082449  -0.031706  \n",
       "atemp      -0.069808  -0.069865  \n",
       "humidity    1.000000  -0.243298  \n",
       "windspeed  -0.243298   1.000000  "
      ]
     },
     "execution_count": 49,
     "metadata": {},
     "output_type": "execute_result"
    }
   ],
   "source": [
    "bike_data.corr()"
   ]
  },
  {
   "cell_type": "code",
   "execution_count": 50,
   "metadata": {},
   "outputs": [
    {
     "data": {
      "text/plain": [
       "<matplotlib.axes._subplots.AxesSubplot at 0x13b56da0>"
      ]
     },
     "execution_count": 50,
     "metadata": {},
     "output_type": "execute_result"
    },
    {
     "data": {
      "image/png": "[encoded data removed]",
      "text/plain": [
       "<Figure size 432x288 with 2 Axes>"
      ]
     },
     "metadata": {
      "needs_background": "light"
     },
     "output_type": "display_data"
    }
   ],
   "source": [
    "sns.heatmap(bike_data.corr())"
   ]
  },
  {
   "cell_type": "code",
   "execution_count": null,
   "metadata": {},
   "outputs": [],
   "source": []
  },
  {
   "cell_type": "code",
   "execution_count": 4,
   "metadata": {},
   "outputs": [
    {
     "data": {
      "text/html": [
       "<div>\n",
       "<style scoped>\n",
       "    .dataframe tbody tr th:only-of-type {\n",
       "        vertical-align: middle;\n",
       "    }\n",
       "\n",
       "    .dataframe tbody tr th {\n",
       "        vertical-align: top;\n",
       "    }\n",
       "\n",
       "    .dataframe thead th {\n",
       "        text-align: right;\n",
       "    }\n",
       "</style>\n",
       "<table border=\"1\" class=\"dataframe\">\n",
       "  <thead>\n",
       "    <tr style=\"text-align: right;\">\n",
       "      <th></th>\n",
       "      <th>DATE</th>\n",
       "      <th>OPEN</th>\n",
       "      <th>HIGH</th>\n",
       "      <th>LOW</th>\n",
       "      <th>CLOSE</th>\n",
       "      <th>VOLUME</th>\n",
       "    </tr>\n",
       "  </thead>\n",
       "  <tbody>\n",
       "    <tr>\n",
       "      <th>0</th>\n",
       "      <td>2017-03-01</td>\n",
       "      <td>116.5</td>\n",
       "      <td>140.80</td>\n",
       "      <td>113.30</td>\n",
       "      <td>135.95</td>\n",
       "      <td>35488</td>\n",
       "    </tr>\n",
       "    <tr>\n",
       "      <th>1</th>\n",
       "      <td>2017-03-02</td>\n",
       "      <td>138.4</td>\n",
       "      <td>139.45</td>\n",
       "      <td>112.00</td>\n",
       "      <td>115.60</td>\n",
       "      <td>35573</td>\n",
       "    </tr>\n",
       "    <tr>\n",
       "      <th>2</th>\n",
       "      <td>2017-03-03</td>\n",
       "      <td>144.5</td>\n",
       "      <td>164.30</td>\n",
       "      <td>127.40</td>\n",
       "      <td>138.20</td>\n",
       "      <td>49641</td>\n",
       "    </tr>\n",
       "    <tr>\n",
       "      <th>3</th>\n",
       "      <td>2017-03-04</td>\n",
       "      <td>142.6</td>\n",
       "      <td>148.75</td>\n",
       "      <td>135.55</td>\n",
       "      <td>144.40</td>\n",
       "      <td>39998</td>\n",
       "    </tr>\n",
       "    <tr>\n",
       "      <th>4</th>\n",
       "      <td>2017-03-05</td>\n",
       "      <td>127.4</td>\n",
       "      <td>150.40</td>\n",
       "      <td>124.10</td>\n",
       "      <td>140.65</td>\n",
       "      <td>37591</td>\n",
       "    </tr>\n",
       "  </tbody>\n",
       "</table>\n",
       "</div>"
      ],
      "text/plain": [
       "         DATE   OPEN    HIGH     LOW   CLOSE  VOLUME\n",
       "0  2017-03-01  116.5  140.80  113.30  135.95   35488\n",
       "1  2017-03-02  138.4  139.45  112.00  115.60   35573\n",
       "2  2017-03-03  144.5  164.30  127.40  138.20   49641\n",
       "3  2017-03-04  142.6  148.75  135.55  144.40   39998\n",
       "4  2017-03-05  127.4  150.40  124.10  140.65   37591"
      ]
     },
     "execution_count": 4,
     "metadata": {},
     "output_type": "execute_result"
    }
   ],
   "source": [
    "NSE_data.head()"
   ]
  },
  {
   "cell_type": "code",
   "execution_count": 6,
   "metadata": {},
   "outputs": [
    {
     "data": {
      "text/plain": [
       "-0.1285779163430152"
      ]
     },
     "execution_count": 6,
     "metadata": {},
     "output_type": "execute_result"
    }
   ],
   "source": [
    "NSE_data[\"HIGH\"].skew()"
   ]
  },
  {
   "cell_type": "code",
   "execution_count": 13,
   "metadata": {},
   "outputs": [],
   "source": [
    "a=pd.DataFrame([10,20,100,1000])"
   ]
  },
  {
   "cell_type": "code",
   "execution_count": 14,
   "metadata": {},
   "outputs": [
    {
     "data": {
      "text/plain": [
       "0    1.958668\n",
       "dtype: float64"
      ]
     },
     "execution_count": 14,
     "metadata": {},
     "output_type": "execute_result"
    }
   ],
   "source": [
    "a.skew()"
   ]
  },
  {
   "cell_type": "code",
   "execution_count": 15,
   "metadata": {},
   "outputs": [],
   "source": [
    "import scipy.stats"
   ]
  },
  {
   "cell_type": "code",
   "execution_count": 16,
   "metadata": {},
   "outputs": [
    {
     "data": {
      "text/plain": [
       "array([1.1308374])"
      ]
     },
     "execution_count": 16,
     "metadata": {},
     "output_type": "execute_result"
    }
   ],
   "source": [
    "scipy.stats.skew(a)"
   ]
  },
  {
   "cell_type": "code",
   "execution_count": 19,
   "metadata": {},
   "outputs": [],
   "source": [
    "kurtosis = pd.DataFrame([10,15,20,25,30])"
   ]
  },
  {
   "cell_type": "code",
   "execution_count": 23,
   "metadata": {},
   "outputs": [
    {
     "data": {
      "text/plain": [
       "-0.3073930877422071"
      ]
     },
     "execution_count": 23,
     "metadata": {},
     "output_type": "execute_result"
    }
   ],
   "source": [
    "scipy.stats.kurtosis(y1)"
   ]
  },
  {
   "cell_type": "code",
   "execution_count": 21,
   "metadata": {},
   "outputs": [],
   "source": [
    "x1 = np.linspace( -5, 5, 1000 ) \n",
    "y1 = 1./(np.sqrt(2.*np.pi)) * np.exp( -.5*(x1)**2  ) "
   ]
  },
  {
   "cell_type": "code",
   "execution_count": 22,
   "metadata": {},
   "outputs": [
    {
     "data": {
      "text/plain": [
       "array([1.48671951e-06, 1.56294518e-06, 1.64291438e-06, 1.72680223e-06,\n",
       "       1.81479157e-06, 1.90707332e-06, 2.00384677e-06, 2.10531999e-06,\n",
       "       2.21171010e-06, 2.32324372e-06, 2.44015731e-06, 2.56269761e-06,\n",
       "       2.69112199e-06, 2.82569895e-06, 2.96670852e-06, 3.11444274e-06,\n",
       "       3.26920615e-06, 3.43131624e-06, 3.60110404e-06, 3.77891458e-06,\n",
       "       3.96510749e-06, 4.16005756e-06, 4.36415530e-06, 4.57780761e-06,\n",
       "       4.80143840e-06, 5.03548920e-06, 5.28041992e-06, 5.53670947e-06,\n",
       "       5.80485658e-06, 6.08538047e-06, 6.37882168e-06, 6.68574289e-06,\n",
       "       7.00672970e-06, 7.34239154e-06, 7.69336257e-06, 8.06030255e-06,\n",
       "       8.44389784e-06, 8.84486240e-06, 9.26393876e-06, 9.70189908e-06,\n",
       "       1.01595463e-05, 1.06377152e-05, 1.11372736e-05, 1.16591234e-05,\n",
       "       1.22042022e-05, 1.27734842e-05, 1.33679815e-05, 1.39887459e-05,\n",
       "       1.46368699e-05, 1.53134881e-05, 1.60197791e-05, 1.67569666e-05,\n",
       "       1.75263212e-05, 1.83291622e-05, 1.91668589e-05, 2.00408326e-05,\n",
       "       2.09525584e-05, 2.19035668e-05, 2.28954459e-05, 2.39298433e-05,\n",
       "       2.50084680e-05, 2.61330924e-05, 2.73055547e-05, 2.85277610e-05,\n",
       "       2.98016873e-05, 3.11293824e-05, 3.25129696e-05, 3.39546498e-05,\n",
       "       3.54567035e-05, 3.70214940e-05, 3.86514694e-05, 4.03491658e-05,\n",
       "       4.21172102e-05, 4.39583229e-05, 4.58753211e-05, 4.78711216e-05,\n",
       "       4.99487441e-05, 5.21113142e-05, 5.43620671e-05, 5.67043508e-05,\n",
       "       5.91416295e-05, 6.16774875e-05, 6.43156324e-05, 6.70598996e-05,\n",
       "       6.99142555e-05, 7.28828016e-05, 7.59697791e-05, 7.91795725e-05,\n",
       "       8.25167139e-05, 8.59858880e-05, 8.95919357e-05, 9.33398595e-05,\n",
       "       9.72348278e-05, 1.01282180e-04, 1.05487430e-04, 1.09856275e-04,\n",
       "       1.14394597e-04, 1.19108467e-04, 1.24004157e-04, 1.29088138e-04,\n",
       "       1.34367089e-04, 1.39847906e-04, 1.45537701e-04, 1.51443813e-04,\n",
       "       1.57573813e-04, 1.63935511e-04, 1.70536959e-04, 1.77386463e-04,\n",
       "       1.84492586e-04, 1.91864155e-04, 1.99510270e-04, 2.07440309e-04,\n",
       "       2.15663936e-04, 2.24191111e-04, 2.33032092e-04, 2.42197448e-04,\n",
       "       2.51698064e-04, 2.61545150e-04, 2.71750248e-04, 2.82325244e-04,\n",
       "       2.93282371e-04, 3.04634221e-04, 3.16393754e-04, 3.28574305e-04,\n",
       "       3.41189596e-04, 3.54253739e-04, 3.67781255e-04, 3.81787075e-04,\n",
       "       3.96286554e-04, 4.11295478e-04, 4.26830079e-04, 4.42907039e-04,\n",
       "       4.59543504e-04, 4.76757094e-04, 4.94565913e-04, 5.12988560e-04,\n",
       "       5.32044139e-04, 5.51752272e-04, 5.72133108e-04, 5.93207338e-04,\n",
       "       6.14996199e-04, 6.37521496e-04, 6.60805604e-04, 6.84871487e-04,\n",
       "       7.09742705e-04, 7.35443430e-04, 7.61998457e-04, 7.89433213e-04,\n",
       "       8.17773777e-04, 8.47046885e-04, 8.77279948e-04, 9.08501063e-04,\n",
       "       9.40739024e-04, 9.74023340e-04, 1.00838424e-03, 1.04385271e-03,\n",
       "       1.08046046e-03, 1.11823998e-03, 1.15722454e-03, 1.19744822e-03,\n",
       "       1.23894586e-03, 1.28175318e-03, 1.32590668e-03, 1.37144374e-03,\n",
       "       1.41840261e-03, 1.46682238e-03, 1.51674306e-03, 1.56820557e-03,\n",
       "       1.62125172e-03, 1.67592427e-03, 1.73226693e-03, 1.79032436e-03,\n",
       "       1.85014222e-03, 1.91176712e-03, 1.97524671e-03, 2.04062963e-03,\n",
       "       2.10796558e-03, 2.17730527e-03, 2.24870050e-03, 2.32220413e-03,\n",
       "       2.39787011e-03, 2.47575348e-03, 2.55591040e-03, 2.63839816e-03,\n",
       "       2.72327519e-03, 2.81060107e-03, 2.90043655e-03, 2.99284354e-03,\n",
       "       3.08788517e-03, 3.18562576e-03, 3.28613083e-03, 3.38946715e-03,\n",
       "       3.49570271e-03, 3.60490678e-03, 3.71714984e-03, 3.83250369e-03,\n",
       "       3.95104138e-03, 4.07283728e-03, 4.19796703e-03, 4.32650760e-03,\n",
       "       4.45853728e-03, 4.59413568e-03, 4.73338375e-03, 4.87636379e-03,\n",
       "       5.02315943e-03, 5.17385570e-03, 5.32853895e-03, 5.48729692e-03,\n",
       "       5.65021873e-03, 5.81739487e-03, 5.98891723e-03, 6.16487906e-03,\n",
       "       6.34537503e-03, 6.53050119e-03, 6.72035498e-03, 6.91503526e-03,\n",
       "       7.11464225e-03, 7.31927759e-03, 7.52904433e-03, 7.74404687e-03,\n",
       "       7.96439105e-03, 8.19018406e-03, 8.42153448e-03, 8.65855230e-03,\n",
       "       8.90134884e-03, 9.15003682e-03, 9.40473029e-03, 9.66554468e-03,\n",
       "       9.93259675e-03, 1.02060046e-02, 1.04858876e-02, 1.07723664e-02,\n",
       "       1.10655632e-02, 1.13656012e-02, 1.16726049e-02, 1.19867001e-02,\n",
       "       1.23080140e-02, 1.26366746e-02, 1.29728116e-02, 1.33165554e-02,\n",
       "       1.36680379e-02, 1.40273919e-02, 1.43947515e-02, 1.47702517e-02,\n",
       "       1.51540287e-02, 1.55462195e-02, 1.59469624e-02, 1.63563965e-02,\n",
       "       1.67746618e-02, 1.72018992e-02, 1.76382506e-02, 1.80838585e-02,\n",
       "       1.85388665e-02, 1.90034187e-02, 1.94776600e-02, 1.99617360e-02,\n",
       "       2.04557929e-02, 2.09599775e-02, 2.14744372e-02, 2.19993198e-02,\n",
       "       2.25347735e-02, 2.30809471e-02, 2.36379896e-02, 2.42060504e-02,\n",
       "       2.47852791e-02, 2.53758253e-02, 2.59778391e-02, 2.65914704e-02,\n",
       "       2.72168692e-02, 2.78541855e-02, 2.85035691e-02, 2.91651697e-02,\n",
       "       2.98391368e-02, 3.05256195e-02, 3.12247667e-02, 3.19367266e-02,\n",
       "       3.26616471e-02, 3.33996755e-02, 3.41509585e-02, 3.49156418e-02,\n",
       "       3.56938707e-02, 3.64857893e-02, 3.72915409e-02, 3.81112678e-02,\n",
       "       3.89451110e-02, 3.97932106e-02, 4.06557052e-02, 4.15327320e-02,\n",
       "       4.24244269e-02, 4.33309242e-02, 4.42523567e-02, 4.51888553e-02,\n",
       "       4.61405491e-02, 4.71075656e-02, 4.80900299e-02, 4.90880655e-02,\n",
       "       5.01017932e-02, 5.11313321e-02, 5.21767985e-02, 5.32383064e-02,\n",
       "       5.43159674e-02, 5.54098903e-02, 5.65201811e-02, 5.76469432e-02,\n",
       "       5.87902768e-02, 5.99502792e-02, 6.11270446e-02, 6.23206639e-02,\n",
       "       6.35312247e-02, 6.47588111e-02, 6.60035037e-02, 6.72653795e-02,\n",
       "       6.85445117e-02, 6.98409697e-02, 7.11548190e-02, 7.24861209e-02,\n",
       "       7.38349328e-02, 7.52013075e-02, 7.65852939e-02, 7.79869361e-02,\n",
       "       7.94062739e-02, 8.08433422e-02, 8.22981714e-02, 8.37707869e-02,\n",
       "       8.52612093e-02, 8.67694540e-02, 8.82955314e-02, 8.98394467e-02,\n",
       "       9.14011996e-02, 9.29807846e-02, 9.45781905e-02, 9.61934008e-02,\n",
       "       9.78263929e-02, 9.94771388e-02, 1.01145604e-01, 1.02831750e-01,\n",
       "       1.04535529e-01, 1.06256890e-01, 1.07995775e-01, 1.09752118e-01,\n",
       "       1.11525850e-01, 1.13316892e-01, 1.15125161e-01, 1.16950567e-01,\n",
       "       1.18793013e-01, 1.20652394e-01, 1.22528601e-01, 1.24421517e-01,\n",
       "       1.26331016e-01, 1.28256969e-01, 1.30199236e-01, 1.32157674e-01,\n",
       "       1.34132129e-01, 1.36122443e-01, 1.38128449e-01, 1.40149973e-01,\n",
       "       1.42186834e-01, 1.44238845e-01, 1.46305809e-01, 1.48387524e-01,\n",
       "       1.50483779e-01, 1.52594357e-01, 1.54719033e-01, 1.56857574e-01,\n",
       "       1.59009741e-01, 1.61175286e-01, 1.63353954e-01, 1.65545484e-01,\n",
       "       1.67749605e-01, 1.69966042e-01, 1.72194509e-01, 1.74434714e-01,\n",
       "       1.76686359e-01, 1.78949137e-01, 1.81222735e-01, 1.83506831e-01,\n",
       "       1.85801097e-01, 1.88105197e-01, 1.90418790e-01, 1.92741524e-01,\n",
       "       1.95073045e-01, 1.97412986e-01, 1.99760979e-01, 2.02116645e-01,\n",
       "       2.04479600e-01, 2.06849454e-01, 2.09225807e-01, 2.11608257e-01,\n",
       "       2.13996392e-01, 2.16389795e-01, 2.18788043e-01, 2.21190706e-01,\n",
       "       2.23597349e-01, 2.26007530e-01, 2.28420802e-01, 2.30836711e-01,\n",
       "       2.33254798e-01, 2.35674601e-01, 2.38095648e-01, 2.40517464e-01,\n",
       "       2.42939571e-01, 2.45361483e-01, 2.47782710e-01, 2.50202758e-01,\n",
       "       2.52621129e-01, 2.55037318e-01, 2.57450819e-01, 2.59861120e-01,\n",
       "       2.62267707e-01, 2.64670059e-01, 2.67067655e-01, 2.69459970e-01,\n",
       "       2.71846473e-01, 2.74226634e-01, 2.76599918e-01, 2.78965787e-01,\n",
       "       2.81323703e-01, 2.83673123e-01, 2.86013503e-01, 2.88344299e-01,\n",
       "       2.90664962e-01, 2.92974946e-01, 2.95273699e-01, 2.97560671e-01,\n",
       "       2.99835312e-01, 3.02097069e-01, 3.04345390e-01, 3.06579724e-01,\n",
       "       3.08799517e-01, 3.11004218e-01, 3.13193276e-01, 3.15366141e-01,\n",
       "       3.17522263e-01, 3.19661095e-01, 3.21782090e-01, 3.23884702e-01,\n",
       "       3.25968391e-01, 3.28032613e-01, 3.30076832e-01, 3.32100512e-01,\n",
       "       3.34103120e-01, 3.36084127e-01, 3.38043006e-01, 3.39979235e-01,\n",
       "       3.41892294e-01, 3.43781670e-01, 3.45646851e-01, 3.47487331e-01,\n",
       "       3.49302609e-01, 3.51092190e-01, 3.52855580e-01, 3.54592296e-01,\n",
       "       3.56301856e-01, 3.57983786e-01, 3.59637619e-01, 3.61262891e-01,\n",
       "       3.62859148e-01, 3.64425940e-01, 3.65962827e-01, 3.67469372e-01,\n",
       "       3.68945149e-01, 3.70389738e-01, 3.71802727e-01, 3.73183711e-01,\n",
       "       3.74532294e-01, 3.75848089e-01, 3.77130715e-01, 3.78379803e-01,\n",
       "       3.79594991e-01, 3.80775926e-01, 3.81922264e-01, 3.83033671e-01,\n",
       "       3.84109822e-01, 3.85150403e-01, 3.86155108e-01, 3.87123642e-01,\n",
       "       3.88055720e-01, 3.88951067e-01, 3.89809419e-01, 3.90630522e-01,\n",
       "       3.91414133e-01, 3.92160019e-01, 3.92867960e-01, 3.93537743e-01,\n",
       "       3.94169171e-01, 3.94762054e-01, 3.95316217e-01, 3.95831493e-01,\n",
       "       3.96307728e-01, 3.96744781e-01, 3.97142519e-01, 3.97500825e-01,\n",
       "       3.97819591e-01, 3.98098720e-01, 3.98338130e-01, 3.98537748e-01,\n",
       "       3.98697514e-01, 3.98817381e-01, 3.98897312e-01, 3.98937284e-01,\n",
       "       3.98937284e-01, 3.98897312e-01, 3.98817381e-01, 3.98697514e-01,\n",
       "       3.98537748e-01, 3.98338130e-01, 3.98098720e-01, 3.97819591e-01,\n",
       "       3.97500825e-01, 3.97142519e-01, 3.96744781e-01, 3.96307728e-01,\n",
       "       3.95831493e-01, 3.95316217e-01, 3.94762054e-01, 3.94169171e-01,\n",
       "       3.93537743e-01, 3.92867960e-01, 3.92160019e-01, 3.91414133e-01,\n",
       "       3.90630522e-01, 3.89809419e-01, 3.88951067e-01, 3.88055720e-01,\n",
       "       3.87123642e-01, 3.86155108e-01, 3.85150403e-01, 3.84109822e-01,\n",
       "       3.83033671e-01, 3.81922264e-01, 3.80775926e-01, 3.79594991e-01,\n",
       "       3.78379803e-01, 3.77130715e-01, 3.75848089e-01, 3.74532294e-01,\n",
       "       3.73183711e-01, 3.71802727e-01, 3.70389738e-01, 3.68945149e-01,\n",
       "       3.67469372e-01, 3.65962827e-01, 3.64425940e-01, 3.62859148e-01,\n",
       "       3.61262891e-01, 3.59637619e-01, 3.57983786e-01, 3.56301856e-01,\n",
       "       3.54592296e-01, 3.52855580e-01, 3.51092190e-01, 3.49302609e-01,\n",
       "       3.47487331e-01, 3.45646851e-01, 3.43781670e-01, 3.41892294e-01,\n",
       "       3.39979235e-01, 3.38043006e-01, 3.36084127e-01, 3.34103120e-01,\n",
       "       3.32100512e-01, 3.30076832e-01, 3.28032613e-01, 3.25968391e-01,\n",
       "       3.23884702e-01, 3.21782090e-01, 3.19661095e-01, 3.17522263e-01,\n",
       "       3.15366141e-01, 3.13193276e-01, 3.11004218e-01, 3.08799517e-01,\n",
       "       3.06579724e-01, 3.04345390e-01, 3.02097069e-01, 2.99835312e-01,\n",
       "       2.97560671e-01, 2.95273699e-01, 2.92974946e-01, 2.90664962e-01,\n",
       "       2.88344299e-01, 2.86013503e-01, 2.83673123e-01, 2.81323703e-01,\n",
       "       2.78965787e-01, 2.76599918e-01, 2.74226634e-01, 2.71846473e-01,\n",
       "       2.69459970e-01, 2.67067655e-01, 2.64670059e-01, 2.62267707e-01,\n",
       "       2.59861120e-01, 2.57450819e-01, 2.55037318e-01, 2.52621129e-01,\n",
       "       2.50202758e-01, 2.47782710e-01, 2.45361483e-01, 2.42939571e-01,\n",
       "       2.40517464e-01, 2.38095648e-01, 2.35674601e-01, 2.33254798e-01,\n",
       "       2.30836711e-01, 2.28420802e-01, 2.26007530e-01, 2.23597349e-01,\n",
       "       2.21190706e-01, 2.18788043e-01, 2.16389795e-01, 2.13996392e-01,\n",
       "       2.11608257e-01, 2.09225807e-01, 2.06849454e-01, 2.04479600e-01,\n",
       "       2.02116645e-01, 1.99760979e-01, 1.97412986e-01, 1.95073045e-01,\n",
       "       1.92741524e-01, 1.90418790e-01, 1.88105197e-01, 1.85801097e-01,\n",
       "       1.83506831e-01, 1.81222735e-01, 1.78949137e-01, 1.76686359e-01,\n",
       "       1.74434714e-01, 1.72194509e-01, 1.69966042e-01, 1.67749605e-01,\n",
       "       1.65545484e-01, 1.63353954e-01, 1.61175286e-01, 1.59009741e-01,\n",
       "       1.56857574e-01, 1.54719033e-01, 1.52594357e-01, 1.50483779e-01,\n",
       "       1.48387524e-01, 1.46305809e-01, 1.44238845e-01, 1.42186834e-01,\n",
       "       1.40149973e-01, 1.38128449e-01, 1.36122443e-01, 1.34132129e-01,\n",
       "       1.32157674e-01, 1.30199236e-01, 1.28256969e-01, 1.26331016e-01,\n",
       "       1.24421517e-01, 1.22528601e-01, 1.20652394e-01, 1.18793013e-01,\n",
       "       1.16950567e-01, 1.15125161e-01, 1.13316892e-01, 1.11525850e-01,\n",
       "       1.09752118e-01, 1.07995775e-01, 1.06256890e-01, 1.04535529e-01,\n",
       "       1.02831750e-01, 1.01145604e-01, 9.94771388e-02, 9.78263929e-02,\n",
       "       9.61934008e-02, 9.45781905e-02, 9.29807846e-02, 9.14011996e-02,\n",
       "       8.98394467e-02, 8.82955314e-02, 8.67694540e-02, 8.52612093e-02,\n",
       "       8.37707869e-02, 8.22981714e-02, 8.08433422e-02, 7.94062739e-02,\n",
       "       7.79869361e-02, 7.65852939e-02, 7.52013075e-02, 7.38349328e-02,\n",
       "       7.24861209e-02, 7.11548190e-02, 6.98409697e-02, 6.85445117e-02,\n",
       "       6.72653795e-02, 6.60035037e-02, 6.47588111e-02, 6.35312247e-02,\n",
       "       6.23206639e-02, 6.11270446e-02, 5.99502792e-02, 5.87902768e-02,\n",
       "       5.76469432e-02, 5.65201811e-02, 5.54098903e-02, 5.43159674e-02,\n",
       "       5.32383064e-02, 5.21767985e-02, 5.11313321e-02, 5.01017932e-02,\n",
       "       4.90880655e-02, 4.80900299e-02, 4.71075656e-02, 4.61405491e-02,\n",
       "       4.51888553e-02, 4.42523567e-02, 4.33309242e-02, 4.24244269e-02,\n",
       "       4.15327320e-02, 4.06557052e-02, 3.97932106e-02, 3.89451110e-02,\n",
       "       3.81112678e-02, 3.72915409e-02, 3.64857893e-02, 3.56938707e-02,\n",
       "       3.49156418e-02, 3.41509585e-02, 3.33996755e-02, 3.26616471e-02,\n",
       "       3.19367266e-02, 3.12247667e-02, 3.05256195e-02, 2.98391368e-02,\n",
       "       2.91651697e-02, 2.85035691e-02, 2.78541855e-02, 2.72168692e-02,\n",
       "       2.65914704e-02, 2.59778391e-02, 2.53758253e-02, 2.47852791e-02,\n",
       "       2.42060504e-02, 2.36379896e-02, 2.30809471e-02, 2.25347735e-02,\n",
       "       2.19993198e-02, 2.14744372e-02, 2.09599775e-02, 2.04557929e-02,\n",
       "       1.99617360e-02, 1.94776600e-02, 1.90034187e-02, 1.85388665e-02,\n",
       "       1.80838585e-02, 1.76382506e-02, 1.72018992e-02, 1.67746618e-02,\n",
       "       1.63563965e-02, 1.59469624e-02, 1.55462195e-02, 1.51540287e-02,\n",
       "       1.47702517e-02, 1.43947515e-02, 1.40273919e-02, 1.36680379e-02,\n",
       "       1.33165554e-02, 1.29728116e-02, 1.26366746e-02, 1.23080140e-02,\n",
       "       1.19867001e-02, 1.16726049e-02, 1.13656012e-02, 1.10655632e-02,\n",
       "       1.07723664e-02, 1.04858876e-02, 1.02060046e-02, 9.93259675e-03,\n",
       "       9.66554468e-03, 9.40473029e-03, 9.15003682e-03, 8.90134884e-03,\n",
       "       8.65855230e-03, 8.42153448e-03, 8.19018406e-03, 7.96439105e-03,\n",
       "       7.74404687e-03, 7.52904433e-03, 7.31927759e-03, 7.11464225e-03,\n",
       "       6.91503526e-03, 6.72035498e-03, 6.53050119e-03, 6.34537503e-03,\n",
       "       6.16487906e-03, 5.98891723e-03, 5.81739487e-03, 5.65021873e-03,\n",
       "       5.48729692e-03, 5.32853895e-03, 5.17385570e-03, 5.02315943e-03,\n",
       "       4.87636379e-03, 4.73338375e-03, 4.59413568e-03, 4.45853728e-03,\n",
       "       4.32650760e-03, 4.19796703e-03, 4.07283728e-03, 3.95104138e-03,\n",
       "       3.83250369e-03, 3.71714984e-03, 3.60490678e-03, 3.49570271e-03,\n",
       "       3.38946715e-03, 3.28613083e-03, 3.18562576e-03, 3.08788517e-03,\n",
       "       2.99284354e-03, 2.90043655e-03, 2.81060107e-03, 2.72327519e-03,\n",
       "       2.63839816e-03, 2.55591040e-03, 2.47575348e-03, 2.39787011e-03,\n",
       "       2.32220413e-03, 2.24870050e-03, 2.17730527e-03, 2.10796558e-03,\n",
       "       2.04062963e-03, 1.97524671e-03, 1.91176712e-03, 1.85014222e-03,\n",
       "       1.79032436e-03, 1.73226693e-03, 1.67592427e-03, 1.62125172e-03,\n",
       "       1.56820557e-03, 1.51674306e-03, 1.46682238e-03, 1.41840261e-03,\n",
       "       1.37144374e-03, 1.32590668e-03, 1.28175318e-03, 1.23894586e-03,\n",
       "       1.19744822e-03, 1.15722454e-03, 1.11823998e-03, 1.08046046e-03,\n",
       "       1.04385271e-03, 1.00838424e-03, 9.74023340e-04, 9.40739024e-04,\n",
       "       9.08501063e-04, 8.77279948e-04, 8.47046885e-04, 8.17773777e-04,\n",
       "       7.89433213e-04, 7.61998457e-04, 7.35443430e-04, 7.09742705e-04,\n",
       "       6.84871487e-04, 6.60805604e-04, 6.37521496e-04, 6.14996199e-04,\n",
       "       5.93207338e-04, 5.72133108e-04, 5.51752272e-04, 5.32044139e-04,\n",
       "       5.12988560e-04, 4.94565913e-04, 4.76757094e-04, 4.59543504e-04,\n",
       "       4.42907039e-04, 4.26830079e-04, 4.11295478e-04, 3.96286554e-04,\n",
       "       3.81787075e-04, 3.67781255e-04, 3.54253739e-04, 3.41189596e-04,\n",
       "       3.28574305e-04, 3.16393754e-04, 3.04634221e-04, 2.93282371e-04,\n",
       "       2.82325244e-04, 2.71750248e-04, 2.61545150e-04, 2.51698064e-04,\n",
       "       2.42197448e-04, 2.33032092e-04, 2.24191111e-04, 2.15663936e-04,\n",
       "       2.07440309e-04, 1.99510270e-04, 1.91864155e-04, 1.84492586e-04,\n",
       "       1.77386463e-04, 1.70536959e-04, 1.63935511e-04, 1.57573813e-04,\n",
       "       1.51443813e-04, 1.45537701e-04, 1.39847906e-04, 1.34367089e-04,\n",
       "       1.29088138e-04, 1.24004157e-04, 1.19108467e-04, 1.14394597e-04,\n",
       "       1.09856275e-04, 1.05487430e-04, 1.01282180e-04, 9.72348278e-05,\n",
       "       9.33398595e-05, 8.95919357e-05, 8.59858880e-05, 8.25167139e-05,\n",
       "       7.91795725e-05, 7.59697791e-05, 7.28828016e-05, 6.99142555e-05,\n",
       "       6.70598996e-05, 6.43156324e-05, 6.16774875e-05, 5.91416295e-05,\n",
       "       5.67043508e-05, 5.43620671e-05, 5.21113142e-05, 4.99487441e-05,\n",
       "       4.78711216e-05, 4.58753211e-05, 4.39583229e-05, 4.21172102e-05,\n",
       "       4.03491658e-05, 3.86514694e-05, 3.70214940e-05, 3.54567035e-05,\n",
       "       3.39546498e-05, 3.25129696e-05, 3.11293824e-05, 2.98016873e-05,\n",
       "       2.85277610e-05, 2.73055547e-05, 2.61330924e-05, 2.50084680e-05,\n",
       "       2.39298433e-05, 2.28954459e-05, 2.19035668e-05, 2.09525584e-05,\n",
       "       2.00408326e-05, 1.91668589e-05, 1.83291622e-05, 1.75263212e-05,\n",
       "       1.67569666e-05, 1.60197791e-05, 1.53134881e-05, 1.46368699e-05,\n",
       "       1.39887459e-05, 1.33679815e-05, 1.27734842e-05, 1.22042022e-05,\n",
       "       1.16591234e-05, 1.11372736e-05, 1.06377152e-05, 1.01595463e-05,\n",
       "       9.70189908e-06, 9.26393876e-06, 8.84486240e-06, 8.44389784e-06,\n",
       "       8.06030255e-06, 7.69336257e-06, 7.34239154e-06, 7.00672970e-06,\n",
       "       6.68574289e-06, 6.37882168e-06, 6.08538047e-06, 5.80485658e-06,\n",
       "       5.53670947e-06, 5.28041992e-06, 5.03548920e-06, 4.80143840e-06,\n",
       "       4.57780761e-06, 4.36415530e-06, 4.16005756e-06, 3.96510749e-06,\n",
       "       3.77891458e-06, 3.60110404e-06, 3.43131624e-06, 3.26920615e-06,\n",
       "       3.11444274e-06, 2.96670852e-06, 2.82569895e-06, 2.69112199e-06,\n",
       "       2.56269761e-06, 2.44015731e-06, 2.32324372e-06, 2.21171010e-06,\n",
       "       2.10531999e-06, 2.00384677e-06, 1.90707332e-06, 1.81479157e-06,\n",
       "       1.72680223e-06, 1.64291438e-06, 1.56294518e-06, 1.48671951e-06])"
      ]
     },
     "execution_count": 22,
     "metadata": {},
     "output_type": "execute_result"
    }
   ],
   "source": [
    "y1"
   ]
  },
  {
   "cell_type": "code",
   "execution_count": 27,
   "metadata": {},
   "outputs": [],
   "source": [
    "Q1,Q2,Q3 = np.percentile(NSE_data[\"HIGH\"],[25,50,75])"
   ]
  },
  {
   "cell_type": "code",
   "execution_count": 29,
   "metadata": {},
   "outputs": [],
   "source": [
    "IQR = Q3-Q1"
   ]
  },
  {
   "cell_type": "code",
   "execution_count": 30,
   "metadata": {},
   "outputs": [
    {
     "data": {
      "text/plain": [
       "45.125"
      ]
     },
     "execution_count": 30,
     "metadata": {},
     "output_type": "execute_result"
    }
   ],
   "source": [
    "IQR"
   ]
  },
  {
   "cell_type": "code",
   "execution_count": 34,
   "metadata": {},
   "outputs": [
    {
     "data": {
      "text/plain": [
       "0.447213595499958"
      ]
     },
     "execution_count": 34,
     "metadata": {},
     "output_type": "execute_result"
    }
   ],
   "source": [
    "scipy.stats.variation([10,20,30,40])"
   ]
  },
  {
   "cell_type": "code",
   "execution_count": 36,
   "metadata": {},
   "outputs": [
    {
     "data": {
      "text/plain": [
       "1.2080808993852439"
      ]
     },
     "execution_count": 36,
     "metadata": {},
     "output_type": "execute_result"
    }
   ],
   "source": [
    "scipy.stats.variation([10,100,1000])"
   ]
  },
  {
   "cell_type": "code",
   "execution_count": 38,
   "metadata": {},
   "outputs": [],
   "source": [
    "insurance_data = pd.read_csv(\"D:/Desktop/Desktop_Important/ATI/insurance.csv\")"
   ]
  },
  {
   "cell_type": "code",
   "execution_count": 39,
   "metadata": {},
   "outputs": [
    {
     "data": {
      "text/html": [
       "<div>\n",
       "<style scoped>\n",
       "    .dataframe tbody tr th:only-of-type {\n",
       "        vertical-align: middle;\n",
       "    }\n",
       "\n",
       "    .dataframe tbody tr th {\n",
       "        vertical-align: top;\n",
       "    }\n",
       "\n",
       "    .dataframe thead th {\n",
       "        text-align: right;\n",
       "    }\n",
       "</style>\n",
       "<table border=\"1\" class=\"dataframe\">\n",
       "  <thead>\n",
       "    <tr style=\"text-align: right;\">\n",
       "      <th></th>\n",
       "      <th>age</th>\n",
       "      <th>gender</th>\n",
       "      <th>bmi</th>\n",
       "      <th>children</th>\n",
       "      <th>smoker</th>\n",
       "      <th>region</th>\n",
       "      <th>Premium</th>\n",
       "    </tr>\n",
       "  </thead>\n",
       "  <tbody>\n",
       "    <tr>\n",
       "      <th>0</th>\n",
       "      <td>19</td>\n",
       "      <td>female</td>\n",
       "      <td>27.900</td>\n",
       "      <td>0</td>\n",
       "      <td>yes</td>\n",
       "      <td>southwest</td>\n",
       "      <td>16884.92400</td>\n",
       "    </tr>\n",
       "    <tr>\n",
       "      <th>1</th>\n",
       "      <td>18</td>\n",
       "      <td>male</td>\n",
       "      <td>33.770</td>\n",
       "      <td>1</td>\n",
       "      <td>no</td>\n",
       "      <td>southeast</td>\n",
       "      <td>1725.55230</td>\n",
       "    </tr>\n",
       "    <tr>\n",
       "      <th>2</th>\n",
       "      <td>28</td>\n",
       "      <td>male</td>\n",
       "      <td>33.000</td>\n",
       "      <td>3</td>\n",
       "      <td>no</td>\n",
       "      <td>southeast</td>\n",
       "      <td>4449.46200</td>\n",
       "    </tr>\n",
       "    <tr>\n",
       "      <th>3</th>\n",
       "      <td>33</td>\n",
       "      <td>male</td>\n",
       "      <td>22.705</td>\n",
       "      <td>0</td>\n",
       "      <td>no</td>\n",
       "      <td>northwest</td>\n",
       "      <td>21984.47061</td>\n",
       "    </tr>\n",
       "    <tr>\n",
       "      <th>4</th>\n",
       "      <td>32</td>\n",
       "      <td>male</td>\n",
       "      <td>28.880</td>\n",
       "      <td>0</td>\n",
       "      <td>no</td>\n",
       "      <td>northwest</td>\n",
       "      <td>3866.85520</td>\n",
       "    </tr>\n",
       "  </tbody>\n",
       "</table>\n",
       "</div>"
      ],
      "text/plain": [
       "   age  gender     bmi  children smoker     region      Premium\n",
       "0   19  female  27.900         0    yes  southwest  16884.92400\n",
       "1   18    male  33.770         1     no  southeast   1725.55230\n",
       "2   28    male  33.000         3     no  southeast   4449.46200\n",
       "3   33    male  22.705         0     no  northwest  21984.47061\n",
       "4   32    male  28.880         0     no  northwest   3866.85520"
      ]
     },
     "execution_count": 39,
     "metadata": {},
     "output_type": "execute_result"
    }
   ],
   "source": [
    "insurance_data.head()"
   ]
  },
  {
   "cell_type": "code",
   "execution_count": 41,
   "metadata": {},
   "outputs": [],
   "source": [
    "corr_data=insurance_data.corr()"
   ]
  },
  {
   "cell_type": "code",
   "execution_count": 43,
   "metadata": {},
   "outputs": [],
   "source": [
    "import seaborn as sns"
   ]
  },
  {
   "cell_type": "code",
   "execution_count": 44,
   "metadata": {},
   "outputs": [
    {
     "data": {
      "text/plain": [
       "<matplotlib.axes._subplots.AxesSubplot at 0x11133748>"
      ]
     },
     "execution_count": 44,
     "metadata": {},
     "output_type": "execute_result"
    },
    {
     "data": {
      "image/png": "[encoded data removed]",
      "text/plain": [
       "<Figure size 432x288 with 2 Axes>"
      ]
     },
     "metadata": {
      "needs_background": "light"
     },
     "output_type": "display_data"
    }
   ],
   "source": [
    "sns.heatmap(corr_data)"
   ]
  },
  {
   "cell_type": "code",
   "execution_count": null,
   "metadata": {},
   "outputs": [],
   "source": []
  }
 ],
 "metadata": {
  "kernelspec": {
   "display_name": "Python 3",
   "language": "python",
   "name": "python3"
  },
  "language_info": {
   "codemirror_mode": {
    "name": "ipython",
    "version": 3
   },
   "file_extension": ".py",
   "mimetype": "text/x-python",
   "name": "python",
   "nbconvert_exporter": "python",
   "pygments_lexer": "ipython3",
   "version": "3.7.2"
  }
 },
 "nbformat": 4,
 "nbformat_minor": 2
}
